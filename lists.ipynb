{
 "cells": [
  {
   "cell_type": "markdown",
   "id": "9f3aa7db",
   "metadata": {},
   "source": [
    "# LIST OPERATIONS\n"
   ]
  },
  {
   "cell_type": "code",
   "execution_count": 1,
   "id": "d6bf9072",
   "metadata": {},
   "outputs": [
    {
     "data": {
      "text/plain": [
       "['a', 4, 'keerri,', 54.6]"
      ]
     },
     "execution_count": 1,
     "metadata": {},
     "output_type": "execute_result"
    }
   ],
   "source": [
    "a=['a',4,\"keerri,\",54.6]\n",
    "a"
   ]
  },
  {
   "cell_type": "code",
   "execution_count": 2,
   "id": "c7601987",
   "metadata": {},
   "outputs": [
    {
     "data": {
      "text/plain": [
       "list"
      ]
     },
     "execution_count": 2,
     "metadata": {},
     "output_type": "execute_result"
    }
   ],
   "source": [
    "type(a)"
   ]
  },
  {
   "cell_type": "code",
   "execution_count": 3,
   "id": "9c4877f9",
   "metadata": {},
   "outputs": [
    {
     "data": {
      "text/plain": [
       "4"
      ]
     },
     "execution_count": 3,
     "metadata": {},
     "output_type": "execute_result"
    }
   ],
   "source": [
    "len(a)"
   ]
  },
  {
   "cell_type": "code",
   "execution_count": 4,
   "id": "607a97e7",
   "metadata": {},
   "outputs": [
    {
     "data": {
      "text/plain": [
       "54.6"
      ]
     },
     "execution_count": 4,
     "metadata": {},
     "output_type": "execute_result"
    }
   ],
   "source": [
    "a[3]"
   ]
  },
  {
   "cell_type": "code",
   "execution_count": 5,
   "id": "742f55bc",
   "metadata": {},
   "outputs": [
    {
     "data": {
      "text/plain": [
       "54.6"
      ]
     },
     "execution_count": 5,
     "metadata": {},
     "output_type": "execute_result"
    }
   ],
   "source": [
    "a[-1]"
   ]
  },
  {
   "cell_type": "code",
   "execution_count": 6,
   "id": "943fa755",
   "metadata": {},
   "outputs": [],
   "source": [
    "a.append(\"jeevi\")"
   ]
  },
  {
   "cell_type": "code",
   "execution_count": 7,
   "id": "a61ed590",
   "metadata": {},
   "outputs": [
    {
     "data": {
      "text/plain": [
       "['a', 4, 'keerri,', 54.6, 'jeevi']"
      ]
     },
     "execution_count": 7,
     "metadata": {},
     "output_type": "execute_result"
    }
   ],
   "source": [
    "a"
   ]
  },
  {
   "cell_type": "code",
   "execution_count": 8,
   "id": "00e3a638",
   "metadata": {},
   "outputs": [
    {
     "data": {
      "text/plain": [
       "['a', 4, 'keerri,', 54.6, 'jeevi', 'a', 4, 'keerri,', 54.6, 'jeevi']"
      ]
     },
     "execution_count": 8,
     "metadata": {},
     "output_type": "execute_result"
    }
   ],
   "source": [
    "a.extend(a)\n",
    "\n",
    "a"
   ]
  },
  {
   "cell_type": "markdown",
   "id": "8f51ceb7",
   "metadata": {},
   "source": [
    "# removing elements in list"
   ]
  },
  {
   "cell_type": "code",
   "execution_count": 9,
   "id": "230549c1",
   "metadata": {},
   "outputs": [
    {
     "data": {
      "text/plain": [
       "['a', 4, 'keerri,', 'jeevi', 'a', 4, 'keerri,', 54.6, 'jeevi']"
      ]
     },
     "execution_count": 9,
     "metadata": {},
     "output_type": "execute_result"
    }
   ],
   "source": [
    "a.remove(54.6)\n",
    "a"
   ]
  },
  {
   "cell_type": "code",
   "execution_count": 10,
   "id": "05773877",
   "metadata": {},
   "outputs": [
    {
     "data": {
      "text/plain": [
       "['a', 4, 'keerri,', 'jeevi', 'a', 4, 'keerri,', 54.6]"
      ]
     },
     "execution_count": 10,
     "metadata": {},
     "output_type": "execute_result"
    }
   ],
   "source": [
    "a.pop()\n",
    "a"
   ]
  },
  {
   "cell_type": "code",
   "execution_count": 11,
   "id": "6230b06d",
   "metadata": {},
   "outputs": [
    {
     "data": {
      "text/plain": [
       "['a', 4, 'keerri,', 'jeevi', 'a', 4, 'keerri,']"
      ]
     },
     "execution_count": 11,
     "metadata": {},
     "output_type": "execute_result"
    }
   ],
   "source": [
    "del a[-1]\n",
    "a"
   ]
  },
  {
   "cell_type": "markdown",
   "id": "b6e465a3",
   "metadata": {},
   "source": [
    "# copying list"
   ]
  },
  {
   "cell_type": "code",
   "execution_count": 12,
   "id": "34aa9880",
   "metadata": {},
   "outputs": [
    {
     "data": {
      "text/plain": [
       "['a', 4, 'keerri,', 'jeevi', 'a', 4, 'keerri,']"
      ]
     },
     "execution_count": 12,
     "metadata": {},
     "output_type": "execute_result"
    }
   ],
   "source": [
    "b=a.copy()\n",
    "b"
   ]
  },
  {
   "cell_type": "markdown",
   "id": "28d400fd",
   "metadata": {},
   "source": [
    "# concatenation"
   ]
  },
  {
   "cell_type": "code",
   "execution_count": 13,
   "id": "19976b1f",
   "metadata": {},
   "outputs": [
    {
     "data": {
      "text/plain": [
       "['a',\n",
       " 4,\n",
       " 'keerri,',\n",
       " 'jeevi',\n",
       " 'a',\n",
       " 4,\n",
       " 'keerri,',\n",
       " 'a',\n",
       " 4,\n",
       " 'keerri,',\n",
       " 'jeevi',\n",
       " 'a',\n",
       " 4,\n",
       " 'keerri,']"
      ]
     },
     "execution_count": 13,
     "metadata": {},
     "output_type": "execute_result"
    }
   ],
   "source": [
    "c=b+a\n",
    "c"
   ]
  },
  {
   "cell_type": "markdown",
   "id": "a57d3128",
   "metadata": {},
   "source": [
    "# LIST COMPARISONS"
   ]
  },
  {
   "cell_type": "code",
   "execution_count": 14,
   "id": "ea591e55",
   "metadata": {},
   "outputs": [],
   "source": [
    "a=[1,6,3,4,5,2]\n",
    "b=[1,2,3,4,5,6]"
   ]
  },
  {
   "cell_type": "markdown",
   "id": "a4acff2d",
   "metadata": {},
   "source": [
    "# COMPARING LIST -SORT()and==\n"
   ]
  },
  {
   "cell_type": "code",
   "execution_count": 15,
   "id": "4adbd1b5",
   "metadata": {},
   "outputs": [
    {
     "name": "stdout",
     "output_type": "stream",
     "text": [
      "identical\n"
     ]
    }
   ],
   "source": [
    "a.sort()\n",
    "b.sort()\n",
    "if a==b:\n",
    "    print(\"identical\")\n",
    "else:\n",
    "    print(\"not identical\")"
   ]
  },
  {
   "cell_type": "code",
   "execution_count": 16,
   "id": "38492b99",
   "metadata": {},
   "outputs": [
    {
     "data": {
      "text/plain": [
       "[1, 2, 3, 4, 5, 6]"
      ]
     },
     "execution_count": 16,
     "metadata": {},
     "output_type": "execute_result"
    }
   ],
   "source": [
    "a"
   ]
  },
  {
   "cell_type": "code",
   "execution_count": 17,
   "id": "e169700f",
   "metadata": {},
   "outputs": [
    {
     "data": {
      "text/plain": [
       "[1, 2, 3, 4, 5, 6]"
      ]
     },
     "execution_count": 17,
     "metadata": {},
     "output_type": "execute_result"
    }
   ],
   "source": [
    "a"
   ]
  },
  {
   "cell_type": "code",
   "execution_count": null,
   "id": "bd19cda0",
   "metadata": {},
   "outputs": [],
   "source": []
  },
  {
   "cell_type": "code",
   "execution_count": null,
   "id": "ff107304",
   "metadata": {},
   "outputs": [],
   "source": []
  },
  {
   "cell_type": "code",
   "execution_count": null,
   "id": "5b581907",
   "metadata": {},
   "outputs": [],
   "source": []
  },
  {
   "cell_type": "code",
   "execution_count": null,
   "id": "535c2b69",
   "metadata": {},
   "outputs": [],
   "source": []
  }
 ],
 "metadata": {
  "kernelspec": {
   "display_name": "Python 3 (ipykernel)",
   "language": "python",
   "name": "python3"
  },
  "language_info": {
   "codemirror_mode": {
    "name": "ipython",
    "version": 3
   },
   "file_extension": ".py",
   "mimetype": "text/x-python",
   "name": "python",
   "nbconvert_exporter": "python",
   "pygments_lexer": "ipython3",
   "version": "3.9.17"
  }
 },
 "nbformat": 4,
 "nbformat_minor": 5
}

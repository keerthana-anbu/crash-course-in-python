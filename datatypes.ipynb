{
 "cells": [
  {
   "cell_type": "code",
   "execution_count": 1,
   "id": "82654cb5",
   "metadata": {},
   "outputs": [
    {
     "ename": "SyntaxError",
     "evalue": "invalid syntax (3360664535.py, line 2)",
     "output_type": "error",
     "traceback": [
      "\u001b[1;36m  Cell \u001b[1;32mIn[1], line 2\u001b[1;36m\u001b[0m\n\u001b[1;33m    =4,\"keeri\",4.54,\"abcd\"\u001b[0m\n\u001b[1;37m    ^\u001b[0m\n\u001b[1;31mSyntaxError\u001b[0m\u001b[1;31m:\u001b[0m invalid syntax\n"
     ]
    }
   ],
   "source": [
    "\n",
    "# a,b,c,d\n",
    "=4,\"keeri\",4.54,\"abcd\"\n",
    "type(d)"
   ]
  },
  {
   "cell_type": "code",
   "execution_count": null,
   "id": "30bd7e17",
   "metadata": {},
   "outputs": [],
   "source": [
    "print(a)"
   ]
  },
  {
   "cell_type": "code",
   "execution_count": null,
   "id": "d87514a9",
   "metadata": {},
   "outputs": [],
   "source": [
    "a=4,3,4678,5\n",
    "print(a)"
   ]
  },
  {
   "cell_type": "code",
   "execution_count": null,
   "id": "c60570c5",
   "metadata": {},
   "outputs": [],
   "source": [
    "type(a)"
   ]
  },
  {
   "cell_type": "code",
   "execution_count": null,
   "id": "f21bb653",
   "metadata": {},
   "outputs": [],
   "source": [
    "a=3+7j\n",
    "type(a)"
   ]
  },
  {
   "cell_type": "code",
   "execution_count": null,
   "id": "6531eb54",
   "metadata": {},
   "outputs": [],
   "source": [
    "a=True\n",
    "type(a)"
   ]
  },
  {
   "cell_type": "code",
   "execution_count": null,
   "id": "4780e1bb",
   "metadata": {},
   "outputs": [],
   "source": [
    "a=45\n",
    "type(a)"
   ]
  },
  {
   "cell_type": "code",
   "execution_count": null,
   "id": "12c32ad7",
   "metadata": {},
   "outputs": [],
   "source": [
    "a=\"keeri\"\n",
    "type(a)"
   ]
  },
  {
   "cell_type": "code",
   "execution_count": null,
   "id": "f0995612",
   "metadata": {},
   "outputs": [],
   "source": [
    "a=[1,'keeri']\n",
    "type(a)"
   ]
  },
  {
   "cell_type": "code",
   "execution_count": null,
   "id": "9d93c7d3",
   "metadata": {},
   "outputs": [],
   "source": [
    "a={1,34,'keeri'}\n",
    "type(a)"
   ]
  },
  {
   "cell_type": "code",
   "execution_count": null,
   "id": "6b297222",
   "metadata": {},
   "outputs": [],
   "source": [
    "A=(1,'INR')\n",
    "type(a)"
   ]
  },
  {
   "cell_type": "markdown",
   "id": "3520970d",
   "metadata": {},
   "source": [
    "# user input\n"
   ]
  },
  {
   "cell_type": "code",
   "execution_count": null,
   "id": "d3c23902",
   "metadata": {},
   "outputs": [],
   "source": [
    "a=int(input(\"enter a value:\"))\n",
    "b=int(input(\"enter a value b:\"))\n",
    "c=a+b\n",
    "print(c)"
   ]
  },
  {
   "cell_type": "code",
   "execution_count": null,
   "id": "a3d50d32",
   "metadata": {},
   "outputs": [],
   "source": [
    "type(c\n",
    "    )"
   ]
  },
  {
   "cell_type": "code",
   "execution_count": null,
   "id": "c55127ef",
   "metadata": {},
   "outputs": [],
   "source": [
    "a=int(input(\"enter:\"))\n",
    "print(\"the value is {}\".format(a))"
   ]
  },
  {
   "cell_type": "code",
   "execution_count": null,
   "id": "1c5feb8f",
   "metadata": {},
   "outputs": [],
   "source": []
  },
  {
   "cell_type": "code",
   "execution_count": null,
   "id": "57ec103c",
   "metadata": {},
   "outputs": [],
   "source": []
  },
  {
   "cell_type": "code",
   "execution_count": null,
   "id": "fdb13f1d",
   "metadata": {},
   "outputs": [],
   "source": []
  },
  {
   "cell_type": "code",
   "execution_count": null,
   "id": "1ff5921c",
   "metadata": {},
   "outputs": [],
   "source": []
  },
  {
   "cell_type": "code",
   "execution_count": null,
   "id": "51c11713",
   "metadata": {},
   "outputs": [],
   "source": []
  }
 ],
 "metadata": {
  "kernelspec": {
   "display_name": "Python 3 (ipykernel)",
   "language": "python",
   "name": "python3"
  },
  "language_info": {
   "codemirror_mode": {
    "name": "ipython",
    "version": 3
   },
   "file_extension": ".py",
   "mimetype": "text/x-python",
   "name": "python",
   "nbconvert_exporter": "python",
   "pygments_lexer": "ipython3",
   "version": "3.9.17"
  }
 },
 "nbformat": 4,
 "nbformat_minor": 5
}

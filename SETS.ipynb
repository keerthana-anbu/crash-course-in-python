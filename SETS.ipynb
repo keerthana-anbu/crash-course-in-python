{
 "cells": [
  {
   "cell_type": "markdown",
   "id": "76599fd8",
   "metadata": {},
   "source": [
    "# CREATING SET VARIABLES"
   ]
  },
  {
   "cell_type": "code",
   "execution_count": 1,
   "id": "26abcf91",
   "metadata": {},
   "outputs": [
    {
     "data": {
      "text/plain": [
       "7"
      ]
     },
     "execution_count": 1,
     "metadata": {},
     "output_type": "execute_result"
    }
   ],
   "source": [
    "a={'keeri',34,56,4,3,1,2,3}\n",
    "len(a)"
   ]
  },
  {
   "cell_type": "code",
   "execution_count": 2,
   "id": "000b3778",
   "metadata": {},
   "outputs": [
    {
     "data": {
      "text/plain": [
       "{1, 2, 3, 34, 4, 56, 'keeri'}"
      ]
     },
     "execution_count": 2,
     "metadata": {},
     "output_type": "execute_result"
    }
   ],
   "source": [
    "a"
   ]
  },
  {
   "cell_type": "code",
   "execution_count": 3,
   "id": "7af86f19",
   "metadata": {},
   "outputs": [
    {
     "data": {
      "text/plain": [
       "7"
      ]
     },
     "execution_count": 3,
     "metadata": {},
     "output_type": "execute_result"
    }
   ],
   "source": [
    "len(a)"
   ]
  },
  {
   "cell_type": "markdown",
   "id": "96857fa3",
   "metadata": {},
   "source": [
    "\n",
    "# add operation\n",
    "add is used to add one element\n",
    "update is used to add multiple element"
   ]
  },
  {
   "cell_type": "code",
   "execution_count": 4,
   "id": "f30410e2",
   "metadata": {},
   "outputs": [
    {
     "data": {
      "text/plain": [
       "{1, 2, 3, 34, 4, 56, 'keeri'}"
      ]
     },
     "execution_count": 4,
     "metadata": {},
     "output_type": "execute_result"
    }
   ],
   "source": [
    "a\n"
   ]
  },
  {
   "cell_type": "code",
   "execution_count": 5,
   "id": "8b2d365a",
   "metadata": {},
   "outputs": [],
   "source": [
    "a.add(\"jeevi\")"
   ]
  },
  {
   "cell_type": "code",
   "execution_count": 6,
   "id": "db19dbab",
   "metadata": {},
   "outputs": [
    {
     "data": {
      "text/plain": [
       "{1, 2, 3, 34, 4, 56, 'jeevi', 'keeri'}"
      ]
     },
     "execution_count": 6,
     "metadata": {},
     "output_type": "execute_result"
    }
   ],
   "source": [
    "a\n"
   ]
  },
  {
   "cell_type": "code",
   "execution_count": 7,
   "id": "586c8df9",
   "metadata": {},
   "outputs": [
    {
     "data": {
      "text/plain": [
       "{1, 105, 2, 3, 34, 4, 56, 'jeevi', 'jk', 'keeri'}"
      ]
     },
     "execution_count": 7,
     "metadata": {},
     "output_type": "execute_result"
    }
   ],
   "source": [
    "a.update({\"jk\", 105,56})\n",
    "a"
   ]
  },
  {
   "cell_type": "markdown",
   "id": "a77d4285",
   "metadata": {},
   "source": [
    "# remove operation\n"
   ]
  },
  {
   "cell_type": "code",
   "execution_count": 8,
   "id": "5616e4f3",
   "metadata": {},
   "outputs": [
    {
     "data": {
      "text/plain": [
       "{1, 105, 2, 3, 34, 4, 56, 'jeevi', 'jk'}"
      ]
     },
     "execution_count": 8,
     "metadata": {},
     "output_type": "execute_result"
    }
   ],
   "source": [
    "a.remove(\"keeri\")\n",
    "a"
   ]
  },
  {
   "cell_type": "code",
   "execution_count": 9,
   "id": "338792a2",
   "metadata": {},
   "outputs": [],
   "source": [
    "a.discard('jeevi')"
   ]
  },
  {
   "cell_type": "code",
   "execution_count": 10,
   "id": "09bb6954",
   "metadata": {},
   "outputs": [
    {
     "data": {
      "text/plain": [
       "{1, 105, 2, 3, 34, 4, 56, 'jk'}"
      ]
     },
     "execution_count": 10,
     "metadata": {},
     "output_type": "execute_result"
    }
   ],
   "source": [
    "a"
   ]
  },
  {
   "cell_type": "code",
   "execution_count": 11,
   "id": "3a55ac39",
   "metadata": {},
   "outputs": [
    {
     "data": {
      "text/plain": [
       "{105, 2, 3, 34, 4, 56, 'jk'}"
      ]
     },
     "execution_count": 11,
     "metadata": {},
     "output_type": "execute_result"
    }
   ],
   "source": [
    "a.pop()\n",
    "a"
   ]
  },
  {
   "cell_type": "code",
   "execution_count": 12,
   "id": "ad149d71",
   "metadata": {},
   "outputs": [],
   "source": [
    "a.add('jeevi')"
   ]
  },
  {
   "cell_type": "code",
   "execution_count": 13,
   "id": "bcca9a49",
   "metadata": {},
   "outputs": [
    {
     "data": {
      "text/plain": [
       "{105, 2, 3, 34, 4, 56, 'jeevi', 'jk'}"
      ]
     },
     "execution_count": 13,
     "metadata": {},
     "output_type": "execute_result"
    }
   ],
   "source": [
    "a"
   ]
  },
  {
   "cell_type": "code",
   "execution_count": 14,
   "id": "236891db",
   "metadata": {},
   "outputs": [
    {
     "data": {
      "text/plain": [
       "{105, 2, 3, 34, 4, 56, 'jeevi', 'jk'}"
      ]
     },
     "execution_count": 14,
     "metadata": {},
     "output_type": "execute_result"
    }
   ],
   "source": [
    "a"
   ]
  },
  {
   "cell_type": "code",
   "execution_count": 15,
   "id": "0a194eb6",
   "metadata": {},
   "outputs": [
    {
     "data": {
      "text/plain": [
       "{105, 2, 3, 34, 4, 56, 'jeevi', 'jk'}"
      ]
     },
     "execution_count": 15,
     "metadata": {},
     "output_type": "execute_result"
    }
   ],
   "source": [
    "b={'keeeri',65,56,1,2,'hi',2,'hi'}\n",
    "a"
   ]
  },
  {
   "cell_type": "code",
   "execution_count": 16,
   "id": "27366d3c",
   "metadata": {},
   "outputs": [
    {
     "data": {
      "text/plain": [
       "{1, 2, 56, 65, 'hi', 'keeeri'}"
      ]
     },
     "execution_count": 16,
     "metadata": {},
     "output_type": "execute_result"
    }
   ],
   "source": [
    "b"
   ]
  },
  {
   "cell_type": "markdown",
   "id": "95ce46ee",
   "metadata": {},
   "source": [
    "### here index is not give as it is unordered"
   ]
  },
  {
   "cell_type": "code",
   "execution_count": 17,
   "id": "8ebabd62",
   "metadata": {},
   "outputs": [
    {
     "ename": "TypeError",
     "evalue": "'set' object is not subscriptable",
     "output_type": "error",
     "traceback": [
      "\u001b[1;31m---------------------------------------------------------------------------\u001b[0m",
      "\u001b[1;31mTypeError\u001b[0m                                 Traceback (most recent call last)",
      "Cell \u001b[1;32mIn[17], line 1\u001b[0m\n\u001b[1;32m----> 1\u001b[0m \u001b[43mb\u001b[49m\u001b[43m[\u001b[49m\u001b[38;5;241;43m4\u001b[39;49m\u001b[43m]\u001b[49m\n",
      "\u001b[1;31mTypeError\u001b[0m: 'set' object is not subscriptable"
     ]
    }
   ],
   "source": [
    "b[4]"
   ]
  },
  {
   "cell_type": "code",
   "execution_count": 18,
   "id": "76f22065",
   "metadata": {},
   "outputs": [
    {
     "ename": "TypeError",
     "evalue": "'set' object is not subscriptable",
     "output_type": "error",
     "traceback": [
      "\u001b[1;31m---------------------------------------------------------------------------\u001b[0m",
      "\u001b[1;31mTypeError\u001b[0m                                 Traceback (most recent call last)",
      "Cell \u001b[1;32mIn[18], line 1\u001b[0m\n\u001b[1;32m----> 1\u001b[0m \u001b[43mb\u001b[49m\u001b[43m[\u001b[49m\u001b[38;5;241;43m2\u001b[39;49m\u001b[43m:\u001b[49m\u001b[43m]\u001b[49m\n",
      "\u001b[1;31mTypeError\u001b[0m: 'set' object is not subscriptable"
     ]
    }
   ],
   "source": [
    "b[2:]"
   ]
  },
  {
   "cell_type": "markdown",
   "id": "1ec54bb4",
   "metadata": {},
   "source": [
    "# union operation\n"
   ]
  },
  {
   "cell_type": "code",
   "execution_count": 19,
   "id": "bb705919",
   "metadata": {},
   "outputs": [
    {
     "data": {
      "text/plain": [
       "{1, 105, 2, 3, 34, 4, 56, 65, 'hi', 'jeevi', 'jk', 'keeeri'}"
      ]
     },
     "execution_count": 19,
     "metadata": {},
     "output_type": "execute_result"
    }
   ],
   "source": [
    "a|b"
   ]
  },
  {
   "cell_type": "code",
   "execution_count": 20,
   "id": "71f6254f",
   "metadata": {},
   "outputs": [
    {
     "data": {
      "text/plain": [
       "{1, 105, 2, 3, 34, 4, 56, 65, 'hi', 'jeevi', 'jk', 'keeeri'}"
      ]
     },
     "execution_count": 20,
     "metadata": {},
     "output_type": "execute_result"
    }
   ],
   "source": [
    "b|a"
   ]
  },
  {
   "cell_type": "markdown",
   "id": "5ccffcc9",
   "metadata": {},
   "source": [
    "# intersection\n"
   ]
  },
  {
   "cell_type": "code",
   "execution_count": 21,
   "id": "aaea5051",
   "metadata": {},
   "outputs": [
    {
     "data": {
      "text/plain": [
       "{2, 56}"
      ]
     },
     "execution_count": 21,
     "metadata": {},
     "output_type": "execute_result"
    }
   ],
   "source": [
    "a&b"
   ]
  },
  {
   "cell_type": "code",
   "execution_count": 22,
   "id": "9f8c3d9c",
   "metadata": {},
   "outputs": [
    {
     "data": {
      "text/plain": [
       "{2, 56}"
      ]
     },
     "execution_count": 22,
     "metadata": {},
     "output_type": "execute_result"
    }
   ],
   "source": [
    "b&a"
   ]
  },
  {
   "cell_type": "markdown",
   "id": "8405409e",
   "metadata": {},
   "source": [
    "# difference"
   ]
  },
  {
   "cell_type": "code",
   "execution_count": 23,
   "id": "11831cf2",
   "metadata": {},
   "outputs": [
    {
     "data": {
      "text/plain": [
       "{105, 3, 34, 4, 'jeevi', 'jk'}"
      ]
     },
     "execution_count": 23,
     "metadata": {},
     "output_type": "execute_result"
    }
   ],
   "source": [
    "a-b"
   ]
  },
  {
   "cell_type": "code",
   "execution_count": 24,
   "id": "a6da47e5",
   "metadata": {},
   "outputs": [
    {
     "data": {
      "text/plain": [
       "{105, 2, 3, 34, 4, 56, 'jeevi', 'jk'}"
      ]
     },
     "execution_count": 24,
     "metadata": {},
     "output_type": "execute_result"
    }
   ],
   "source": [
    "a"
   ]
  },
  {
   "cell_type": "code",
   "execution_count": 25,
   "id": "66da5667",
   "metadata": {},
   "outputs": [
    {
     "data": {
      "text/plain": [
       "{1, 2, 56, 65, 'hi', 'keeeri'}"
      ]
     },
     "execution_count": 25,
     "metadata": {},
     "output_type": "execute_result"
    }
   ],
   "source": [
    "b"
   ]
  },
  {
   "cell_type": "code",
   "execution_count": 26,
   "id": "704c43a4",
   "metadata": {},
   "outputs": [
    {
     "data": {
      "text/plain": [
       "{1, 65, 'hi', 'keeeri'}"
      ]
     },
     "execution_count": 26,
     "metadata": {},
     "output_type": "execute_result"
    }
   ],
   "source": [
    " b-a"
   ]
  },
  {
   "cell_type": "markdown",
   "id": "2e8820ed",
   "metadata": {},
   "source": [
    "# DICTIONARY variable"
   ]
  },
  {
   "cell_type": "code",
   "execution_count": 27,
   "id": "fe67efac",
   "metadata": {},
   "outputs": [
    {
     "data": {
      "text/plain": [
       "dict"
      ]
     },
     "execution_count": 27,
     "metadata": {},
     "output_type": "execute_result"
    }
   ],
   "source": [
    "course={1:'keeri',2:'nat',3:'arun',4:'siva',5:'deepak'}\n",
    "type(course)"
   ]
  },
  {
   "cell_type": "code",
   "execution_count": 28,
   "id": "b11866f8",
   "metadata": {},
   "outputs": [
    {
     "data": {
      "text/plain": [
       "'nat'"
      ]
     },
     "execution_count": 28,
     "metadata": {},
     "output_type": "execute_result"
    }
   ],
   "source": [
    "course[2]"
   ]
  },
  {
   "cell_type": "code",
   "execution_count": 29,
   "id": "08c6cc08",
   "metadata": {},
   "outputs": [
    {
     "data": {
      "text/plain": [
       "{1: 'keeri', 2: 'nat', 3: 'arun', 4: 'siva', 5: 'deepak'}"
      ]
     },
     "execution_count": 29,
     "metadata": {},
     "output_type": "execute_result"
    }
   ],
   "source": [
    "course"
   ]
  },
  {
   "cell_type": "code",
   "execution_count": 30,
   "id": "04987381",
   "metadata": {},
   "outputs": [
    {
     "data": {
      "text/plain": [
       "dict_keys([1, 2, 3, 4, 5])"
      ]
     },
     "execution_count": 30,
     "metadata": {},
     "output_type": "execute_result"
    }
   ],
   "source": [
    "course.keys()"
   ]
  },
  {
   "cell_type": "code",
   "execution_count": 31,
   "id": "c67f3855",
   "metadata": {},
   "outputs": [
    {
     "data": {
      "text/plain": [
       "dict_values(['keeri', 'nat', 'arun', 'siva', 'deepak'])"
      ]
     },
     "execution_count": 31,
     "metadata": {},
     "output_type": "execute_result"
    }
   ],
   "source": [
    "course.values()"
   ]
  },
  {
   "cell_type": "markdown",
   "id": "bc479955",
   "metadata": {},
   "source": [
    "# displaying items-keys along with values"
   ]
  },
  {
   "cell_type": "code",
   "execution_count": 32,
   "id": "5998c629",
   "metadata": {},
   "outputs": [
    {
     "data": {
      "text/plain": [
       "dict_items([(1, 'keeri'), (2, 'nat'), (3, 'arun'), (4, 'siva'), (5, 'deepak')])"
      ]
     },
     "execution_count": 32,
     "metadata": {},
     "output_type": "execute_result"
    }
   ],
   "source": [
    "course.items()"
   ]
  },
  {
   "cell_type": "markdown",
   "id": "5a510afe",
   "metadata": {},
   "source": [
    "# Accesing values using key\n"
   ]
  },
  {
   "cell_type": "code",
   "execution_count": 33,
   "id": "9e4134ae",
   "metadata": {},
   "outputs": [
    {
     "data": {
      "text/plain": [
       "'siva'"
      ]
     },
     "execution_count": 33,
     "metadata": {},
     "output_type": "execute_result"
    }
   ],
   "source": [
    "course[4]"
   ]
  },
  {
   "cell_type": "code",
   "execution_count": 34,
   "id": "c1047500",
   "metadata": {},
   "outputs": [],
   "source": [
    "course[5]=\"jeeva\""
   ]
  },
  {
   "cell_type": "code",
   "execution_count": 35,
   "id": "dcc9771c",
   "metadata": {},
   "outputs": [
    {
     "data": {
      "text/plain": [
       "{1: 'keeri', 2: 'nat', 3: 'arun', 4: 'siva', 5: 'jeeva'}"
      ]
     },
     "execution_count": 35,
     "metadata": {},
     "output_type": "execute_result"
    }
   ],
   "source": [
    "course"
   ]
  },
  {
   "cell_type": "code",
   "execution_count": 36,
   "id": "045aa3f5",
   "metadata": {},
   "outputs": [
    {
     "data": {
      "text/plain": [
       "'jeeva'"
      ]
     },
     "execution_count": 36,
     "metadata": {},
     "output_type": "execute_result"
    }
   ],
   "source": [
    "course.get(5)"
   ]
  },
  {
   "cell_type": "markdown",
   "id": "bc32e153",
   "metadata": {},
   "source": [
    "# adding key :valueto dictionary "
   ]
  },
  {
   "cell_type": "code",
   "execution_count": 37,
   "id": "e7b45428",
   "metadata": {},
   "outputs": [
    {
     "data": {
      "text/plain": [
       "dict_items([(1, 'keeri'), (2, 'nat'), (3, 'arun'), (4, 'siva'), (5, 'deepak')])"
      ]
     },
     "execution_count": 37,
     "metadata": {},
     "output_type": "execute_result"
    }
   ],
   "source": [
    "course[5]='deepak'\n",
    "course.items()"
   ]
  },
  {
   "cell_type": "markdown",
   "id": "9db365ed",
   "metadata": {},
   "source": [
    "# removing values"
   ]
  },
  {
   "cell_type": "code",
   "execution_count": 38,
   "id": "9b08b58d",
   "metadata": {},
   "outputs": [
    {
     "data": {
      "text/plain": [
       "'deepak'"
      ]
     },
     "execution_count": 38,
     "metadata": {},
     "output_type": "execute_result"
    }
   ],
   "source": [
    "course.pop(5)"
   ]
  },
  {
   "cell_type": "code",
   "execution_count": 39,
   "id": "34c27030",
   "metadata": {},
   "outputs": [
    {
     "data": {
      "text/plain": [
       "dict_items([(1, 'keeri'), (2, 'nat'), (3, 'arun'), (4, 'siva')])"
      ]
     },
     "execution_count": 39,
     "metadata": {},
     "output_type": "execute_result"
    }
   ],
   "source": [
    "course.items()"
   ]
  },
  {
   "cell_type": "code",
   "execution_count": 40,
   "id": "b56acd9d",
   "metadata": {},
   "outputs": [
    {
     "data": {
      "text/plain": [
       "{1: 'keeri', 2: 'jeeva'}"
      ]
     },
     "execution_count": 40,
     "metadata": {},
     "output_type": "execute_result"
    }
   ],
   "source": [
    "k={1:'keeri',2:'jeeva'}\n",
    "k"
   ]
  },
  {
   "cell_type": "code",
   "execution_count": 41,
   "id": "6519fbe2",
   "metadata": {},
   "outputs": [
    {
     "data": {
      "text/plain": [
       "dict_items([])"
      ]
     },
     "execution_count": 41,
     "metadata": {},
     "output_type": "execute_result"
    }
   ],
   "source": [
    "k.clear()\n",
    "k.items()"
   ]
  },
  {
   "cell_type": "markdown",
   "id": "bb0c6009",
   "metadata": {},
   "source": [
    "# create a copy of dictionary"
   ]
  },
  {
   "cell_type": "code",
   "execution_count": 42,
   "id": "7696d044",
   "metadata": {},
   "outputs": [
    {
     "data": {
      "text/plain": [
       "{1: 'keeri', 2: 'nat', 3: 'arun', 4: 'siva'}"
      ]
     },
     "execution_count": 42,
     "metadata": {},
     "output_type": "execute_result"
    }
   ],
   "source": [
    "friends=course.copy()\n",
    "friends"
   ]
  },
  {
   "cell_type": "code",
   "execution_count": null,
   "id": "b1595801",
   "metadata": {},
   "outputs": [],
   "source": []
  },
  {
   "cell_type": "code",
   "execution_count": null,
   "id": "960458d1",
   "metadata": {},
   "outputs": [],
   "source": []
  },
  {
   "cell_type": "code",
   "execution_count": null,
   "id": "dfa38a35",
   "metadata": {},
   "outputs": [],
   "source": []
  }
 ],
 "metadata": {
  "kernelspec": {
   "display_name": "Python 3 (ipykernel)",
   "language": "python",
   "name": "python3"
  },
  "language_info": {
   "codemirror_mode": {
    "name": "ipython",
    "version": 3
   },
   "file_extension": ".py",
   "mimetype": "text/x-python",
   "name": "python",
   "nbconvert_exporter": "python",
   "pygments_lexer": "ipython3",
   "version": "3.9.17"
  }
 },
 "nbformat": 4,
 "nbformat_minor": 5
}

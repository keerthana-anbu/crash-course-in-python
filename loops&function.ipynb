{
 "cells": [
  {
   "cell_type": "markdown",
   "id": "2db78c5a",
   "metadata": {},
   "source": [
    "# UNDERSTANDING LOOPS\n",
    "for loops-example-1\n",
    "creating list"
   ]
  },
  {
   "cell_type": "code",
   "execution_count": 1,
   "id": "fab2d413",
   "metadata": {},
   "outputs": [
    {
     "name": "stdout",
     "output_type": "stream",
     "text": [
      "keerthana\n",
      "keerthana\n",
      "keerthana\n",
      "keerthana\n",
      "keerthana\n",
      "keerthana\n",
      "keerthana\n",
      "keerthana\n",
      "keerthana\n",
      "keerthana\n"
     ]
    }
   ],
   "source": [
    "num=(1,2,3,4,5,6,'btech',8,7,9)\n",
    "for i in num:\n",
    "    print(\"keerthana\")"
   ]
  },
  {
   "cell_type": "code",
   "execution_count": 2,
   "id": "27f87dbb",
   "metadata": {},
   "outputs": [
    {
     "name": "stdout",
     "output_type": "stream",
     "text": [
      "1\n",
      "2\n",
      "3\n",
      "4\n",
      "5\n",
      "6\n",
      "btech\n",
      "8\n",
      "7\n",
      "9\n"
     ]
    }
   ],
   "source": [
    "for i in num:\n",
    "    print(i)"
   ]
  },
  {
   "cell_type": "code",
   "execution_count": 3,
   "id": "6d409eaf",
   "metadata": {},
   "outputs": [
    {
     "name": "stdout",
     "output_type": "stream",
     "text": [
      "0 keeri\n",
      "1 keeri\n",
      "2 keeri\n",
      "3 keeri\n",
      "4 keeri\n",
      "5 keeri\n",
      "6 keeri\n",
      "7 keeri\n",
      "8 keeri\n",
      "9 keeri\n"
     ]
    }
   ],
   "source": [
    "i=1\n",
    "for i in range(10):\n",
    "    print(i,\"keeri\")"
   ]
  },
  {
   "cell_type": "code",
   "execution_count": 4,
   "id": "e0b00eb2",
   "metadata": {
    "scrolled": true
   },
   "outputs": [
    {
     "name": "stdout",
     "output_type": "stream",
     "text": [
      "2 is an even number\n",
      "4 is an even number\n",
      "6 is an even number\n",
      "8 is an even number\n",
      "10 is an even number\n",
      "12 is an even number\n",
      "14 is an even number\n",
      "16 is an even number\n",
      "18 is an even number\n",
      "20 is an even number\n",
      "1 is an odd number\n",
      "3 is an odd number\n",
      "5 is an odd number\n",
      "7 is an odd number\n",
      "9 is an odd number\n",
      "11 is an odd number\n",
      "13 is an odd number\n",
      "15 is an odd number\n",
      "17 is an odd number\n",
      "19 is an odd number\n"
     ]
    }
   ],
   "source": [
    "a={1,2,3,4,5,6,7,8,9,10,11,12,13,14,15,16,17,18,19,20}\n",
    "\n",
    "for i in a:\n",
    "    if i%2==0:\n",
    "        print(i,\"is an even number\")\n",
    "for i in a:\n",
    "    if i%2!=0:\n",
    "        print(i,\"is an odd number\")"
   ]
  },
  {
   "cell_type": "markdown",
   "id": "580891af",
   "metadata": {},
   "source": [
    "# while loop\n",
    "example-1"
   ]
  },
  {
   "cell_type": "code",
   "execution_count": 12,
   "id": "d5b1cdf0",
   "metadata": {
    "scrolled": true
   },
   "outputs": [
    {
     "name": "stdout",
     "output_type": "stream",
     "text": [
      "enter a number:34\n",
      "the sum is  0\n",
      "the sum is  1\n",
      "the sum is  3\n",
      "the sum is  6\n",
      "the sum is  10\n",
      "the sum is  15\n",
      "the sum is  21\n",
      "the sum is  28\n",
      "the sum is  36\n",
      "the sum is  45\n",
      "the sum is  55\n",
      "the sum is  66\n",
      "the sum is  78\n",
      "the sum is  91\n",
      "the sum is  105\n",
      "the sum is  120\n",
      "the sum is  136\n",
      "the sum is  153\n",
      "the sum is  171\n",
      "the sum is  190\n",
      "the sum is  210\n",
      "the sum is  231\n",
      "the sum is  253\n",
      "the sum is  276\n",
      "the sum is  300\n",
      "the sum is  325\n",
      "the sum is  351\n",
      "the sum is  378\n",
      "the sum is  406\n",
      "the sum is  435\n",
      "the sum is  465\n",
      "the sum is  496\n",
      "the sum is  528\n",
      "the sum is  561\n",
      "the sum is  595\n"
     ]
    }
   ],
   "source": [
    "n=int(input(\"enter a number:\"))\n",
    "val=0\n",
    "i=0\n",
    "while i<=n:\n",
    "    val+=i\n",
    "    i+=1\n",
    "    print(\"the sum is \",val)"
   ]
  },
  {
   "cell_type": "code",
   "execution_count": 13,
   "id": "25fccaa3",
   "metadata": {},
   "outputs": [
    {
     "name": "stdout",
     "output_type": "stream",
     "text": [
      "1 inside the loop\n",
      "2 inside the loop\n",
      "3 inside the loop\n",
      "4 inside the loop\n",
      "5 inside the loop\n",
      "6 inside the loop\n",
      "7 inside the loop\n",
      "8 inside the loop\n",
      "9 inside the loop\n",
      "10 inside the loop\n",
      "11 inside the loop\n",
      "12 inside the loop\n",
      "13 inside the loop\n",
      "14 inside the loop\n",
      "15 inside the loop\n",
      "get out of the loop\n"
     ]
    }
   ],
   "source": [
    " c=0\n",
    "while c<15:\n",
    "    print(c+1,\"inside the loop\")\n",
    "    c+=1\n",
    "else:\n",
    "    print(\"get out of the loop\")"
   ]
  },
  {
   "cell_type": "markdown",
   "id": "00d5d854",
   "metadata": {},
   "source": [
    "# break statement"
   ]
  },
  {
   "cell_type": "markdown",
   "id": "c51c7ebd",
   "metadata": {},
   "source": [
    "# for loop"
   ]
  },
  {
   "cell_type": "code",
   "execution_count": 14,
   "id": "813bd2a6",
   "metadata": {},
   "outputs": [
    {
     "name": "stdout",
     "output_type": "stream",
     "text": [
      "s\n",
      "t\n",
      "r\n",
      "the end\n"
     ]
    }
   ],
   "source": [
    "for val in \"string\":\n",
    "    if val==\"i\":\n",
    "        break\n",
    "    print(val)\n",
    "print(\"the end\")"
   ]
  },
  {
   "cell_type": "markdown",
   "id": "e302f0fa",
   "metadata": {},
   "source": [
    "# whileloop"
   ]
  },
  {
   "cell_type": "code",
   "execution_count": 15,
   "id": "3d38affd",
   "metadata": {},
   "outputs": [
    {
     "name": "stdout",
     "output_type": "stream",
     "text": [
      "0\n",
      "1\n",
      "2\n",
      "3\n",
      "4\n",
      "5\n",
      "6\n",
      "7\n",
      "8\n",
      "9\n"
     ]
    }
   ],
   "source": [
    "c=0\n",
    "while True:\n",
    "    print(c)\n",
    "    c+=1\n",
    "    if c>=10:\n",
    "        break"
   ]
  },
  {
   "cell_type": "markdown",
   "id": "e51f49c9",
   "metadata": {},
   "source": [
    "# functions\n",
    "example 1"
   ]
  },
  {
   "cell_type": "code",
   "execution_count": 16,
   "id": "ad85cf53",
   "metadata": {},
   "outputs": [],
   "source": [
    "a=[\"raja\",\"thiruda\"]\n",
    "b=[\"rani\",\"thirudi\"]"
   ]
  },
  {
   "cell_type": "code",
   "execution_count": 17,
   "id": "eaaa7f58",
   "metadata": {},
   "outputs": [],
   "source": [
    "def con():\n",
    "    i=0\n",
    "    for j in a:\n",
    "        fin=a[i]+b[i]\n",
    "        i+=1\n",
    "        print(f\"{fin}\")\n",
    "        \n",
    "\n",
    "    \n",
    "        "
   ]
  },
  {
   "cell_type": "code",
   "execution_count": 11,
   "id": "e70afa22",
   "metadata": {},
   "outputs": [
    {
     "name": "stdout",
     "output_type": "stream",
     "text": [
      "rajarani\n",
      "thirudathirudi\n"
     ]
    }
   ],
   "source": [
    "con()"
   ]
  },
  {
   "cell_type": "code",
   "execution_count": null,
   "id": "65b5783d",
   "metadata": {},
   "outputs": [],
   "source": [
    "\n",
    "        "
   ]
  },
  {
   "cell_type": "code",
   "execution_count": null,
   "id": "c32c26af",
   "metadata": {},
   "outputs": [],
   "source": []
  }
 ],
 "metadata": {
  "kernelspec": {
   "display_name": "Python 3 (ipykernel)",
   "language": "python",
   "name": "python3"
  },
  "language_info": {
   "codemirror_mode": {
    "name": "ipython",
    "version": 3
   },
   "file_extension": ".py",
   "mimetype": "text/x-python",
   "name": "python",
   "nbconvert_exporter": "python",
   "pygments_lexer": "ipython3",
   "version": "3.9.17"
  }
 },
 "nbformat": 4,
 "nbformat_minor": 5
}

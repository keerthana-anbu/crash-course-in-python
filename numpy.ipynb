{
 "cells": [
  {
   "cell_type": "markdown",
   "id": "08ebe706",
   "metadata": {},
   "source": [
    "# NUMPY"
   ]
  },
  {
   "cell_type": "code",
   "execution_count": 1,
   "id": "615e59fd",
   "metadata": {},
   "outputs": [
    {
     "name": "stdout",
     "output_type": "stream",
     "text": [
      "Requirement already satisfied: numpy in c:\\users\\aedpu\\anaconda3\\envs\\machinelearning\\lib\\site-packages (1.25.2)Note: you may need to restart the kernel to use updated packages.\n",
      "\n"
     ]
    }
   ],
   "source": [
    "pip install numpy"
   ]
  },
  {
   "cell_type": "markdown",
   "id": "d233835e",
   "metadata": {},
   "source": [
    "# numpy array operatios\n",
    "1.importing library"
   ]
  },
  {
   "cell_type": "code",
   "execution_count": 2,
   "id": "3ebf31fb",
   "metadata": {},
   "outputs": [],
   "source": [
    "import numpy as np"
   ]
  },
  {
   "cell_type": "markdown",
   "id": "5c82cec2",
   "metadata": {},
   "source": [
    "\n",
    "## 2.numpy version check\n",
    "we perform this operation to know/check the version of installed numpy library"
   ]
  },
  {
   "cell_type": "code",
   "execution_count": 3,
   "id": "37b312ac",
   "metadata": {},
   "outputs": [
    {
     "data": {
      "text/plain": [
       "'1.25.2'"
      ]
     },
     "execution_count": 3,
     "metadata": {},
     "output_type": "execute_result"
    }
   ],
   "source": [
    "np.version.version"
   ]
  },
  {
   "cell_type": "markdown",
   "id": "d57b5dd9",
   "metadata": {},
   "source": [
    "# 3. one dimensional array\n",
    "we will be using numpy.array to create different dimansional\n",
    "# 3.1 creating 1d array\n",
    " ### 1.syntax:numpy.array([values])\n",
    " ### 2.values:elements in the array"
   ]
  },
  {
   "cell_type": "code",
   "execution_count": 4,
   "id": "636b2334",
   "metadata": {},
   "outputs": [],
   "source": [
    "first_array=np.array([1,2,3,4,5,6,7,8,9])"
   ]
  },
  {
   "cell_type": "code",
   "execution_count": 5,
   "id": "554b059c",
   "metadata": {},
   "outputs": [
    {
     "name": "stdout",
     "output_type": "stream",
     "text": [
      "[1 2 3 4 5 6 7 8 9]\n"
     ]
    }
   ],
   "source": [
    "print(first_array)"
   ]
  },
  {
   "cell_type": "markdown",
   "id": "e4589178",
   "metadata": {},
   "source": [
    "# 4 .two  dimensionl array\n",
    "## 4.1 creating 2d array\n",
    "### 1.syntax:numpy.array([(1,2,3),(4,5,6)])\n",
    "### 2.values:elements in the array"
   ]
  },
  {
   "cell_type": "code",
   "execution_count": 6,
   "id": "832b23fd",
   "metadata": {},
   "outputs": [],
   "source": [
    "second_array=np.array([(1,2,3),(5,6,7)])"
   ]
  },
  {
   "cell_type": "code",
   "execution_count": 7,
   "id": "4f763052",
   "metadata": {},
   "outputs": [
    {
     "name": "stdout",
     "output_type": "stream",
     "text": [
      "[[1 2 3]\n",
      " [5 6 7]]\n"
     ]
    }
   ],
   "source": [
    "print(second_array)"
   ]
  },
  {
   "cell_type": "markdown",
   "id": "8a1722e0",
   "metadata": {},
   "source": [
    "#  5.three dimensional array\n",
    "## 5.1 creating 3d array\n",
    "### 1.syntax:numpy.array([(1,2),(3,4),(5,6)])\n",
    "### 2.values:elements in the array"
   ]
  },
  {
   "cell_type": "code",
   "execution_count": null,
   "id": "8be670ae",
   "metadata": {},
   "outputs": [],
   "source": [
    "\n",
    "\n"
   ]
  },
  {
   "cell_type": "markdown",
   "id": "e74c1fa7",
   "metadata": {},
   "source": [
    "# 6.\n",
    "## 1.syntax: numpy.zeros(shape,dtype=float,order=\"c\")\n",
    "## 2.shape of the array\n",
    "## 3.dtype(optional):desired dtype of array\n",
    "## 4.order:to store multi diemensional\n"
   ]
  },
  {
   "cell_type": "code",
   "execution_count": 8,
   "id": "3b9a57c1",
   "metadata": {},
   "outputs": [],
   "source": [
    "z_array=np.zeros((3,2))"
   ]
  },
  {
   "cell_type": "code",
   "execution_count": 9,
   "id": "ba6cbca8",
   "metadata": {},
   "outputs": [
    {
     "name": "stdout",
     "output_type": "stream",
     "text": [
      "[[0. 0.]\n",
      " [0. 0.]\n",
      " [0. 0.]]\n"
     ]
    }
   ],
   "source": [
    "print(z_array)"
   ]
  },
  {
   "cell_type": "markdown",
   "id": "36b306f2",
   "metadata": {},
   "source": [
    "# 7.array of ones\n",
    "## to create array containing only elements 1\n",
    "### 1.syntax:numpy.ones()"
   ]
  },
  {
   "cell_type": "code",
   "execution_count": 10,
   "id": "3d43b0b1",
   "metadata": {},
   "outputs": [],
   "source": [
    "o_array=np.ones((2,2))"
   ]
  },
  {
   "cell_type": "code",
   "execution_count": 11,
   "id": "fec4ea60",
   "metadata": {},
   "outputs": [
    {
     "name": "stdout",
     "output_type": "stream",
     "text": [
      "[[1. 1.]\n",
      " [1. 1.]]\n"
     ]
    }
   ],
   "source": [
    "print(o_array)"
   ]
  },
  {
   "cell_type": "markdown",
   "id": "ae431435",
   "metadata": {},
   "source": [
    "# 8.linspace\n",
    "### 1.syntax:numpy.linsapce(start,stop,num=50,endpoint=true,dtype=none,axis=0)\n",
    "### 2.star:starting value of sequence\n",
    "### 3.stop:end value off sequence\n",
    "### 4.num=:number os samples to generate\n",
    "### 5.endpoint:in true stop at last sample,otherwise it is included.default is true\n",
    "### 6.dtype(optional):desired dtype of array\n",
    "### 7.axis(optional):axis along which it is stored"
   ]
  },
  {
   "cell_type": "code",
   "execution_count": 12,
   "id": "893eb4ff",
   "metadata": {},
   "outputs": [],
   "source": [
    "lin=np.linspace(0,10,50)"
   ]
  },
  {
   "cell_type": "code",
   "execution_count": 13,
   "id": "0febeb28",
   "metadata": {},
   "outputs": [
    {
     "name": "stdout",
     "output_type": "stream",
     "text": [
      "[ 0.          0.20408163  0.40816327  0.6122449   0.81632653  1.02040816\n",
      "  1.2244898   1.42857143  1.63265306  1.83673469  2.04081633  2.24489796\n",
      "  2.44897959  2.65306122  2.85714286  3.06122449  3.26530612  3.46938776\n",
      "  3.67346939  3.87755102  4.08163265  4.28571429  4.48979592  4.69387755\n",
      "  4.89795918  5.10204082  5.30612245  5.51020408  5.71428571  5.91836735\n",
      "  6.12244898  6.32653061  6.53061224  6.73469388  6.93877551  7.14285714\n",
      "  7.34693878  7.55102041  7.75510204  7.95918367  8.16326531  8.36734694\n",
      "  8.57142857  8.7755102   8.97959184  9.18367347  9.3877551   9.59183673\n",
      "  9.79591837 10.        ]\n"
     ]
    }
   ],
   "source": [
    "print(lin)"
   ]
  },
  {
   "cell_type": "markdown",
   "id": "86947692",
   "metadata": {},
   "source": [
    "# array manipulation\n",
    "### creating arrays"
   ]
  },
  {
   "cell_type": "code",
   "execution_count": 14,
   "id": "03a3bd83",
   "metadata": {},
   "outputs": [],
   "source": [
    "a=np.array([(1,2,3),(5,6,7),(8,9,10)])"
   ]
  },
  {
   "cell_type": "code",
   "execution_count": 15,
   "id": "0324d6f8",
   "metadata": {},
   "outputs": [
    {
     "name": "stdout",
     "output_type": "stream",
     "text": [
      "[[ 1  2  3]\n",
      " [ 5  6  7]\n",
      " [ 8  9 10]]\n"
     ]
    }
   ],
   "source": [
    "print(a)"
   ]
  },
  {
   "cell_type": "code",
   "execution_count": 16,
   "id": "a9b6d602",
   "metadata": {},
   "outputs": [],
   "source": [
    "b=np.array([(5,6,7,8,8),(1,2,3,4,5)])"
   ]
  },
  {
   "cell_type": "code",
   "execution_count": 17,
   "id": "f106b01a",
   "metadata": {},
   "outputs": [
    {
     "name": "stdout",
     "output_type": "stream",
     "text": [
      "[[5 6 7 8 8]\n",
      " [1 2 3 4 5]]\n"
     ]
    }
   ],
   "source": [
    "print(b)"
   ]
  },
  {
   "cell_type": "markdown",
   "id": "009ad03f",
   "metadata": {},
   "source": [
    "# TRANSPOSE\n",
    "### 1.syntax:numpy.transpose(a,axes=nonr)\n",
    "### 2.a=:input array\n",
    "### 3.axes:by default reverse the dimensions,permutes the matrix with respect to the provided value\n",
    "### 4.output:n dimensional array whose dimensions are permuted"
   ]
  },
  {
   "cell_type": "code",
   "execution_count": 18,
   "id": "5c2f7a46",
   "metadata": {},
   "outputs": [],
   "source": [
    "tran=np.transpose(a)"
   ]
  },
  {
   "cell_type": "code",
   "execution_count": 19,
   "id": "982f484c",
   "metadata": {},
   "outputs": [
    {
     "name": "stdout",
     "output_type": "stream",
     "text": [
      "[[ 1  5  8]\n",
      " [ 2  6  9]\n",
      " [ 3  7 10]]\n"
     ]
    }
   ],
   "source": [
    "print(tran)"
   ]
  },
  {
   "cell_type": "markdown",
   "id": "afb7916b",
   "metadata": {},
   "source": [
    "# flattening array\n",
    "### 1.syntax:ndarray.ravel(order='c')\n",
    "### 2.order:which orders the flattening"
   ]
  },
  {
   "cell_type": "code",
   "execution_count": 20,
   "id": "1407c2ac",
   "metadata": {},
   "outputs": [
    {
     "data": {
      "text/plain": [
       "array([ 1,  5,  8,  2,  6,  9,  3,  7, 10])"
      ]
     },
     "execution_count": 20,
     "metadata": {},
     "output_type": "execute_result"
    }
   ],
   "source": [
    "tran.ravel()"
   ]
  },
  {
   "cell_type": "markdown",
   "id": "ed604c3e",
   "metadata": {},
   "source": [
    "# 11.reshaping an array\n",
    "### 1.syntax:ndarray.reshape(newshape)\n",
    "### 2,newshape:which shape is the out put is needed\n",
    "#### imp:new shape should be compatibles ith old shape"
   ]
  },
  {
   "cell_type": "code",
   "execution_count": 21,
   "id": "e00747b1",
   "metadata": {},
   "outputs": [
    {
     "data": {
      "text/plain": [
       "array([[5, 6],\n",
       "       [7, 8],\n",
       "       [8, 1],\n",
       "       [2, 3],\n",
       "       [4, 5]])"
      ]
     },
     "execution_count": 21,
     "metadata": {},
     "output_type": "execute_result"
    }
   ],
   "source": [
    "b.reshape(5,2)"
   ]
  },
  {
   "cell_type": "markdown",
   "id": "ea64202e",
   "metadata": {},
   "source": [
    "# 12. array resize\n",
    "## we use ndarray.resize for resizing operation\n",
    "### 1.syntax:ndaray.resize((new_size))\n",
    "### 2.new_size:shape of resize for output"
   ]
  },
  {
   "cell_type": "code",
   "execution_count": 22,
   "id": "d4728384",
   "metadata": {},
   "outputs": [],
   "source": [
    "first=np.array([1,2,3,4,5,6,7,8,9])"
   ]
  },
  {
   "cell_type": "code",
   "execution_count": 23,
   "id": "4c88ca67",
   "metadata": {},
   "outputs": [
    {
     "data": {
      "text/plain": [
       "array([[5, 6, 7, 8, 8],\n",
       "       [1, 2, 3, 4, 5]])"
      ]
     },
     "execution_count": 23,
     "metadata": {},
     "output_type": "execute_result"
    }
   ],
   "source": [
    "b"
   ]
  },
  {
   "cell_type": "code",
   "execution_count": 25,
   "id": "42652cba",
   "metadata": {},
   "outputs": [
    {
     "ename": "TypeError",
     "evalue": "only integer scalar arrays can be converted to a scalar index",
     "output_type": "error",
     "traceback": [
      "\u001b[1;31m---------------------------------------------------------------------------\u001b[0m",
      "\u001b[1;31mTypeError\u001b[0m                                 Traceback (most recent call last)",
      "Cell \u001b[1;32mIn[25], line 1\u001b[0m\n\u001b[1;32m----> 1\u001b[0m \u001b[43mb\u001b[49m\u001b[38;5;241;43m.\u001b[39;49m\u001b[43mresize\u001b[49m\u001b[43m(\u001b[49m\u001b[43m(\u001b[49m\u001b[43mb\u001b[49m\u001b[43m)\u001b[49m\u001b[43m)\u001b[49m\n",
      "\u001b[1;31mTypeError\u001b[0m: only integer scalar arrays can be converted to a scalar index"
     ]
    }
   ],
   "source": [
    "b.resize((b))"
   ]
  },
  {
   "cell_type": "code",
   "execution_count": 26,
   "id": "65b283d7",
   "metadata": {},
   "outputs": [
    {
     "data": {
      "text/plain": [
       "array([[5, 6, 7, 8, 8],\n",
       "       [1, 2, 3, 4, 5]])"
      ]
     },
     "execution_count": 26,
     "metadata": {},
     "output_type": "execute_result"
    }
   ],
   "source": [
    "b"
   ]
  },
  {
   "cell_type": "markdown",
   "id": "ef59b001",
   "metadata": {},
   "source": [
    "# "
   ]
  },
  {
   "cell_type": "code",
   "execution_count": null,
   "id": "add75077",
   "metadata": {},
   "outputs": [],
   "source": []
  }
 ],
 "metadata": {
  "kernelspec": {
   "display_name": "Python 3 (ipykernel)",
   "language": "python",
   "name": "python3"
  },
  "language_info": {
   "codemirror_mode": {
    "name": "ipython",
    "version": 3
   },
   "file_extension": ".py",
   "mimetype": "text/x-python",
   "name": "python",
   "nbconvert_exporter": "python",
   "pygments_lexer": "ipython3",
   "version": "3.9.17"
  }
 },
 "nbformat": 4,
 "nbformat_minor": 5
}
